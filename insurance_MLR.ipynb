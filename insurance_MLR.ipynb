{
  "nbformat": 4,
  "nbformat_minor": 0,
  "metadata": {
    "colab": {
      "name": "insurance_MLR.ipynb",
      "provenance": []
    },
    "kernelspec": {
      "name": "python3",
      "display_name": "Python 3"
    },
    "language_info": {
      "name": "python"
    }
  },
  "cells": [
    {
      "cell_type": "markdown",
      "source": [
        "Importing Libraries"
      ],
      "metadata": {
        "id": "52oKg4EHG3ix"
      }
    },
    {
      "cell_type": "code",
      "execution_count": 1,
      "metadata": {
        "id": "sDIM7Bd2GqTc"
      },
      "outputs": [],
      "source": [
        "import pandas as pd\n",
        "import numpy as np\n",
        "import matplotlib.pyplot as plt\n"
      ]
    },
    {
      "cell_type": "markdown",
      "source": [
        "importing dataset"
      ],
      "metadata": {
        "id": "rn0CpWXOG_tu"
      }
    },
    {
      "cell_type": "code",
      "source": [
        "dataset = pd.read_csv('insurance.csv')\n",
        "X = dataset.iloc[:,:-1].values\n",
        "y = dataset.iloc[:,-1].values"
      ],
      "metadata": {
        "id": "QE6L19JOHCU2"
      },
      "execution_count": 2,
      "outputs": []
    },
    {
      "cell_type": "code",
      "source": [
        "print(X)"
      ],
      "metadata": {
        "colab": {
          "base_uri": "https://localhost:8080/"
        },
        "id": "uVnQQyjFN8gE",
        "outputId": "5b3caf52-cae4-4d48-d0d1-d390c376e498"
      },
      "execution_count": 3,
      "outputs": [
        {
          "output_type": "stream",
          "name": "stdout",
          "text": [
            "[[19 'female' 27.9 0 'yes' 'southwest']\n",
            " [18 'male' 33.77 1 'no' 'southeast']\n",
            " [28 'male' 33.0 3 'no' 'southeast']\n",
            " ...\n",
            " [18 'female' 36.85 0 'no' 'southeast']\n",
            " [21 'female' 25.8 0 'no' 'southwest']\n",
            " [61 'female' 29.07 0 'yes' 'northwest']]\n"
          ]
        }
      ]
    },
    {
      "cell_type": "markdown",
      "source": [
        "Encoding categorical data"
      ],
      "metadata": {
        "id": "X-6McyfXIIc4"
      }
    },
    {
      "cell_type": "code",
      "source": [
        "new_data = pd.get_dummies(dataset, columns = ['sex','smoker','region',])\n",
        "X = new_data.drop('charges', axis = 1).values\n",
        "y = new_data['charges'].values\n"
      ],
      "metadata": {
        "id": "3TTmnEh6WQso"
      },
      "execution_count": 4,
      "outputs": []
    },
    {
      "cell_type": "code",
      "source": [
        "# from sklearn.compose import ColumnTransformer\n",
        "# from sklearn.preprocessing import OneHotEncoder\n",
        "# ct = ColumnTransformer(transformers=[('encoder', OneHotEncoder(), [1,4,5]),\n",
        "#                                      ], remainder='passthrough')\n",
        "\n",
        "# X = np.array(ct.fit_transform(X))"
      ],
      "metadata": {
        "id": "iDjms9kmIOEO"
      },
      "execution_count": 5,
      "outputs": []
    },
    {
      "cell_type": "markdown",
      "source": [
        "Splitting the dataset into the Training set and Test set"
      ],
      "metadata": {
        "id": "E8HVL6t1PDcV"
      }
    },
    {
      "cell_type": "code",
      "source": [
        "from sklearn.model_selection import train_test_split\n",
        "X_train, X_test, y_train, y_test = train_test_split(X, y, test_size = 0.2, random_state = 0)"
      ],
      "metadata": {
        "id": "7chcNNgQPF4r"
      },
      "execution_count": 6,
      "outputs": []
    },
    {
      "cell_type": "markdown",
      "source": [
        "Training the Multiple Linear Regression model on the Training set"
      ],
      "metadata": {
        "id": "z5H9EtgkPLws"
      }
    },
    {
      "cell_type": "code",
      "source": [
        "from sklearn.linear_model import LinearRegression\n",
        "regressor = LinearRegression()\n",
        "regressor.fit(X_train, y_train)"
      ],
      "metadata": {
        "colab": {
          "base_uri": "https://localhost:8080/"
        },
        "id": "j-96VKzuPQFU",
        "outputId": "2fcd852e-b14a-4f97-8901-0505e532f161"
      },
      "execution_count": 7,
      "outputs": [
        {
          "output_type": "execute_result",
          "data": {
            "text/plain": [
              "LinearRegression()"
            ]
          },
          "metadata": {},
          "execution_count": 7
        }
      ]
    },
    {
      "cell_type": "markdown",
      "source": [
        "Predicting"
      ],
      "metadata": {
        "id": "h1-4AButPjxd"
      }
    },
    {
      "cell_type": "code",
      "source": [
        "y_pred=regressor.predict(X_test)\n",
        "np.set_printoptions(precision=2)\n",
        "print(np.concatenate((y_pred.reshape(len(y_pred),1), y_test.reshape(len(y_test),1)),1))"
      ],
      "metadata": {
        "colab": {
          "base_uri": "https://localhost:8080/"
        },
        "id": "62G3ReBSPnGi",
        "outputId": "af5581a8-deb8-4411-a677-3a7567ad5b1c"
      },
      "execution_count": 11,
      "outputs": [
        {
          "output_type": "stream",
          "name": "stdout",
          "text": [
            "[[1.12e+04 9.72e+03]\n",
            " [9.49e+03 8.55e+03]\n",
            " [3.82e+04 4.57e+04]\n",
            " [1.63e+04 1.30e+04]\n",
            " [6.91e+03 9.64e+03]\n",
            " [3.96e+03 4.50e+03]\n",
            " [1.58e+03 2.20e+03]\n",
            " [1.44e+04 1.14e+04]\n",
            " [9.01e+03 7.54e+03]\n",
            " [7.51e+03 5.43e+03]\n",
            " [4.49e+03 6.75e+03]\n",
            " [1.03e+04 1.05e+04]\n",
            " [8.80e+03 7.34e+03]\n",
            " [3.80e+03 4.19e+03]\n",
            " [2.79e+04 1.83e+04]\n",
            " [1.07e+04 1.07e+04]\n",
            " [1.13e+04 1.25e+04]\n",
            " [6.11e+03 3.49e+03]\n",
            " [8.24e+03 6.46e+03]\n",
            " [2.71e+04 3.35e+04]\n",
            " [3.36e+04 2.40e+04]\n",
            " [1.44e+04 1.26e+04]\n",
            " [1.17e+04 2.30e+04]\n",
            " [3.21e+04 2.31e+04]\n",
            " [4.17e+03 1.67e+03]\n",
            " [9.25e+03 4.67e+03]\n",
            " [1.08e+03 3.73e+03]\n",
            " [9.80e+03 7.68e+03]\n",
            " [3.77e+03 3.76e+03]\n",
            " [1.04e+04 8.41e+03]\n",
            " [9.01e+03 8.06e+03]\n",
            " [4.01e+04 4.90e+04]\n",
            " [1.57e+04 1.30e+04]\n",
            " [1.39e+04 2.06e+04]\n",
            " [2.48e+04 1.46e+04]\n",
            " [5.17e+03 4.14e+03]\n",
            " [1.26e+04 8.35e+03]\n",
            " [3.08e+04 5.12e+04]\n",
            " [3.35e+04 4.00e+04]\n",
            " [3.67e+03 1.88e+03]\n",
            " [3.98e+03 5.46e+03]\n",
            " [3.99e+03 2.87e+03]\n",
            " [3.05e+04 2.01e+04]\n",
            " [3.95e+04 4.75e+04]\n",
            " [2.78e+04 3.61e+04]\n",
            " [5.09e+03 2.60e+04]\n",
            " [1.06e+04 1.97e+04]\n",
            " [7.83e+03 6.94e+03]\n",
            " [3.59e+03 4.72e+03]\n",
            " [1.02e+04 2.22e+04]\n",
            " [5.72e+03 2.90e+03]\n",
            " [3.43e+03 1.88e+04]\n",
            " [3.30e+04 2.36e+04]\n",
            " [3.85e+04 4.63e+04]\n",
            " [1.61e+04 2.42e+04]\n",
            " [7.16e+03 3.27e+03]\n",
            " [5.74e+03 2.32e+03]\n",
            " [9.45e+03 8.83e+03]\n",
            " [8.91e+03 1.45e+04]\n",
            " [1.17e+04 1.31e+04]\n",
            " [1.86e+03 1.25e+03]\n",
            " [3.89e+04 4.67e+04]\n",
            " [1.49e+04 1.39e+04]\n",
            " [1.18e+04 9.63e+03]\n",
            " [1.41e+04 1.07e+04]\n",
            " [1.41e+04 9.88e+03]\n",
            " [2.58e+04 3.25e+04]\n",
            " [3.22e+04 3.87e+04]\n",
            " [8.14e+02 3.18e+03]\n",
            " [1.02e+04 8.16e+03]\n",
            " [1.24e+04 1.30e+04]\n",
            " [1.15e+04 1.16e+04]\n",
            " [2.52e+04 1.62e+04]\n",
            " [1.56e+04 1.39e+04]\n",
            " [1.12e+04 1.30e+04]\n",
            " [1.26e+04 1.32e+04]\n",
            " [6.56e+03 7.15e+03]\n",
            " [9.59e+03 7.73e+03]\n",
            " [3.02e+04 2.03e+04]\n",
            " [3.91e+04 4.74e+04]\n",
            " [1.20e+04 1.17e+04]\n",
            " [3.73e+04 4.59e+04]\n",
            " [4.27e+03 2.06e+03]\n",
            " [9.39e+03 7.44e+03]\n",
            " [3.49e+04 4.10e+04]\n",
            " [2.88e+04 1.90e+04]\n",
            " [8.69e+03 3.41e+03]\n",
            " [4.93e+03 2.70e+03]\n",
            " [1.20e+04 1.23e+04]\n",
            " [3.05e+04 3.68e+04]\n",
            " [1.01e+04 6.33e+03]\n",
            " [1.14e+04 1.02e+04]\n",
            " [8.40e+03 1.79e+04]\n",
            " [8.90e+03 8.52e+03]\n",
            " [8.43e+03 4.52e+03]\n",
            " [7.32e+03 5.15e+03]\n",
            " [3.60e+04 4.23e+04]\n",
            " [3.32e+04 3.90e+04]\n",
            " [7.66e+03 5.33e+03]\n",
            " [1.51e+04 1.06e+04]\n",
            " [4.02e+03 1.82e+03]\n",
            " [8.83e+03 5.38e+03]\n",
            " [6.32e+03 4.35e+03]\n",
            " [3.15e+04 3.77e+04]\n",
            " [3.30e+04 3.28e+04]\n",
            " [1.97e+03 3.35e+03]\n",
            " [9.03e+03 1.06e+04]\n",
            " [6.70e+03 3.56e+03]\n",
            " [1.46e+04 1.19e+04]\n",
            " [3.72e+04 5.26e+04]\n",
            " [1.01e+04 1.25e+04]\n",
            " [1.06e+04 4.27e+03]\n",
            " [1.02e+04 9.25e+03]\n",
            " [2.70e+04 3.37e+04]\n",
            " [3.99e+04 4.87e+04]\n",
            " [8.46e+03 7.73e+03]\n",
            " [2.97e+02 1.96e+03]\n",
            " [9.02e+03 8.44e+03]\n",
            " [1.53e+04 1.23e+04]\n",
            " [9.53e+03 9.30e+03]\n",
            " [3.52e+04 4.21e+04]\n",
            " [7.26e+03 9.99e+03]\n",
            " [1.70e+04 1.43e+04]\n",
            " [9.65e+03 5.43e+03]\n",
            " [8.25e+03 7.63e+03]\n",
            " [2.94e+03 4.91e+03]\n",
            " [3.29e+04 2.34e+04]\n",
            " [3.15e+04 2.11e+04]\n",
            " [3.96e+04 4.82e+04]\n",
            " [5.61e+03 1.92e+03]\n",
            " [9.31e+03 8.22e+03]\n",
            " [3.59e+03 1.73e+03]\n",
            " [7.65e+03 5.98e+03]\n",
            " [8.63e+03 9.36e+03]\n",
            " [3.17e+04 2.21e+04]\n",
            " [3.00e+04 3.55e+04]\n",
            " [2.98e+04 1.95e+04]\n",
            " [8.73e+03 1.01e+04]\n",
            " [3.24e+04 2.32e+04]\n",
            " [3.36e+03 2.79e+03]\n",
            " [3.71e+03 2.26e+03]\n",
            " [1.11e+04 1.06e+04]\n",
            " [1.32e+04 9.30e+03]\n",
            " [1.29e+04 1.04e+04]\n",
            " [5.45e+03 4.89e+03]\n",
            " [1.56e+04 1.43e+04]\n",
            " [1.49e+04 2.83e+04]\n",
            " [2.41e+03 1.44e+04]\n",
            " [2.55e+01 1.63e+03]\n",
            " [1.08e+04 2.55e+04]\n",
            " [7.41e+03 6.56e+03]\n",
            " [3.19e+04 3.96e+04]\n",
            " [1.24e+04 9.96e+03]\n",
            " [2.34e+03 1.72e+03]\n",
            " [6.48e+03 2.73e+03]\n",
            " [7.86e+03 6.50e+03]\n",
            " [4.45e+03 2.64e+03]\n",
            " [2.11e+03 1.72e+03]\n",
            " [1.14e+04 1.11e+04]\n",
            " [1.25e+04 1.01e+04]\n",
            " [7.26e+03 4.85e+03]\n",
            " [1.64e+04 1.30e+04]\n",
            " [1.18e+04 2.89e+04]\n",
            " [1.41e+04 9.39e+03]\n",
            " [3.18e+03 4.54e+03]\n",
            " [7.29e+03 1.71e+04]\n",
            " [2.31e+04 1.38e+04]\n",
            " [7.59e+03 6.11e+03]\n",
            " [5.49e+03 4.44e+03]\n",
            " [5.20e+03 1.63e+03]\n",
            " [6.76e+03 4.06e+03]\n",
            " [5.20e+03 4.44e+03]\n",
            " [1.00e+04 8.31e+03]\n",
            " [5.38e+03 1.99e+03]\n",
            " [5.73e+03 4.26e+03]\n",
            " [6.64e+03 4.50e+03]\n",
            " [3.70e+03 4.43e+03]\n",
            " [5.57e+03 6.12e+03]\n",
            " [3.81e+04 3.02e+04]\n",
            " [1.50e+03 1.71e+03]\n",
            " [1.26e+04 1.12e+04]\n",
            " [8.97e+03 6.80e+03]\n",
            " [1.38e+04 1.14e+04]\n",
            " [5.40e+03 2.50e+03]\n",
            " [5.19e+03 2.74e+04]\n",
            " [3.65e+04 2.81e+04]\n",
            " [4.40e+03 2.25e+03]\n",
            " [2.04e+03 2.60e+03]\n",
            " [1.52e+04 1.47e+04]\n",
            " [1.27e+04 1.04e+04]\n",
            " [3.51e+04 4.11e+04]\n",
            " [4.78e+03 3.98e+03]\n",
            " [5.68e+03 5.47e+03]\n",
            " [3.12e+04 2.12e+04]\n",
            " [6.21e+03 2.53e+03]\n",
            " [2.15e+03 1.97e+03]\n",
            " [8.44e+03 6.41e+03]\n",
            " [1.00e+04 6.55e+03]\n",
            " [8.00e+03 4.06e+03]\n",
            " [5.80e+03 4.24e+03]\n",
            " [1.32e+04 1.15e+04]\n",
            " [3.85e+04 4.69e+04]\n",
            " [1.38e+04 1.23e+04]\n",
            " [2.89e+04 1.92e+04]\n",
            " [6.79e+03 4.43e+03]\n",
            " [3.55e+04 4.30e+04]\n",
            " [3.77e+03 2.32e+04]\n",
            " [1.19e+04 9.14e+03]\n",
            " [9.06e+03 5.84e+03]\n",
            " [6.26e+03 1.15e+03]\n",
            " [1.14e+04 8.77e+03]\n",
            " [1.46e+04 1.40e+04]\n",
            " [5.17e+03 5.31e+03]\n",
            " [4.47e+03 1.08e+04]\n",
            " [7.91e+03 6.28e+03]\n",
            " [1.34e+03 1.97e+03]\n",
            " [7.86e+03 6.75e+03]\n",
            " [4.42e+03 5.35e+03]\n",
            " [1.29e+04 1.40e+04]\n",
            " [4.24e+03 6.88e+03]\n",
            " [1.01e+04 6.20e+03]\n",
            " [7.20e+03 7.99e+03]\n",
            " [9.30e+03 8.28e+03]\n",
            " [2.40e+03 3.21e+03]\n",
            " [1.32e+04 1.18e+04]\n",
            " [1.69e+04 1.42e+04]\n",
            " [1.49e+04 1.23e+04]\n",
            " [1.06e+04 1.18e+04]\n",
            " [5.29e+03 6.65e+03]\n",
            " [2.23e+03 2.14e+03]\n",
            " [1.94e+03 1.13e+03]\n",
            " [1.35e+04 8.34e+03]\n",
            " [1.41e+04 1.22e+04]\n",
            " [5.02e+03 4.56e+03]\n",
            " [3.76e+03 1.76e+04]\n",
            " [9.49e+03 6.88e+03]\n",
            " [9.98e+03 9.45e+03]\n",
            " [2.83e+04 3.43e+04]\n",
            " [7.65e+03 6.07e+03]\n",
            " [1.05e+04 1.17e+04]\n",
            " [6.32e+03 5.38e+03]\n",
            " [2.99e+04 3.75e+04]\n",
            " [1.11e+04 7.37e+03]\n",
            " [7.51e+03 7.33e+03]\n",
            " [1.02e+04 8.41e+03]\n",
            " [1.22e+04 1.05e+04]\n",
            " [3.01e+03 3.28e+03]\n",
            " [1.09e+04 7.73e+03]\n",
            " [1.54e+03 2.73e+03]\n",
            " [7.04e+03 6.86e+03]\n",
            " [2.84e+04 1.95e+04]\n",
            " [3.87e+04 4.73e+04]\n",
            " [6.37e+03 3.99e+03]\n",
            " [8.19e+03 3.24e+03]\n",
            " [2.54e+03 7.32e+03]\n",
            " [4.47e+02 1.70e+03]\n",
            " [1.06e+04 7.45e+03]\n",
            " [4.21e+03 1.63e+03]\n",
            " [4.96e+03 4.88e+03]\n",
            " [2.34e+03 3.56e+03]\n",
            " [6.81e+03 8.61e+03]\n",
            " [3.34e+04 2.45e+04]\n",
            " [3.82e+04 4.57e+04]\n",
            " [1.48e+04 1.50e+04]\n",
            " [8.28e+03 6.66e+03]\n",
            " [1.61e+04 2.07e+04]\n",
            " [3.29e+04 4.09e+04]\n",
            " [9.47e+03 9.50e+03]]\n"
          ]
        }
      ]
    },
    {
      "cell_type": "code",
      "source": [
        "r2_score = regressor.score(X_test,y_test)\n",
        "print(r2_score*100,'%')"
      ],
      "metadata": {
        "colab": {
          "base_uri": "https://localhost:8080/"
        },
        "id": "jUhgIe77QYq8",
        "outputId": "1edc0d09-4f0d-4d06-ea6c-580d27199a27"
      },
      "execution_count": 9,
      "outputs": [
        {
          "output_type": "stream",
          "name": "stdout",
          "text": [
            "79.99876970680434 %\n"
          ]
        }
      ]
    },
    {
      "cell_type": "code",
      "source": [
        "r2_score = regressor.score(X_train,y_train)\n",
        "print(r2_score*100,'%')"
      ],
      "metadata": {
        "colab": {
          "base_uri": "https://localhost:8080/"
        },
        "id": "1SpKx76fR66T",
        "outputId": "6b4e31cb-800d-4ce0-f3dd-d9a03a36f1f2"
      },
      "execution_count": 10,
      "outputs": [
        {
          "output_type": "stream",
          "name": "stdout",
          "text": [
            "73.70262574551634 %\n"
          ]
        }
      ]
    }
  ]
}